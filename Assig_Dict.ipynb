{
 "cells": [
  {
   "cell_type": "code",
   "execution_count": 38,
   "metadata": {},
   "outputs": [
    {
     "name": "stdout",
     "output_type": "stream",
     "text": [
      "{'apple': '250', 'sugar': '500', 'rice': '2.5', 'milk': '2.5', 'egg': '1'}\n",
      "{'apple': '250', 'sugar': '500', 'rice': '2.5', 'milk': '2.5', 'egg': '1', 'atta': '1kg'}\n"
     ]
    }
   ],
   "source": [
    "#Questions on Dictionary\n",
    "#In the weekend , I purchased 250g of apple, 500g of sugar, 2.5 kg of rice, 2.5 litres of milk and finally 1 dozen of egg.\n",
    "\n",
    "#1.Can you help me frame the above purchase in the form of dictionary with commodities as keys to it.\n",
    "\n",
    "prov = {'apple':'250','sugar':'500','rice':'2.5','milk':'2.5','egg':'1'}\n",
    "print(prov)\n",
    "\n",
    "#2.I forgot to mention another item, 1kg of atta packet. Can you also add it ?\n",
    "prov['atta'] = '1kg'\n",
    "print(prov)\n",
    "\n",
    "#prov_new = prov.update({'atta':'1kg'})\n",
    "#print(prov_new)"
   ]
  },
  {
   "cell_type": "code",
   "execution_count": 39,
   "metadata": {},
   "outputs": [
    {
     "name": "stdout",
     "output_type": "stream",
     "text": [
      "{'apple': '250', 'sugar': '500', 'rice': '2', 'milk': '2.5', 'egg': '1', 'atta': '1kg'}\n"
     ]
    }
   ],
   "source": [
    "#3.Instead of 2kg of rice, I bought only 1kg of rice. Can you change the corresponding value ?\n",
    "prov['rice'] = '2'\n",
    "print(prov)"
   ]
  },
  {
   "cell_type": "code",
   "execution_count": 40,
   "metadata": {},
   "outputs": [
    {
     "name": "stdout",
     "output_type": "stream",
     "text": [
      "Dict values are-- apple : 250\n",
      "Dict values are-- sugar : 500\n",
      "Dict values are-- rice : 2\n",
      "Dict values are-- milk : 2.5\n",
      "Dict values are-- egg : 1\n",
      "Dict values are-- atta : 1kg\n"
     ]
    }
   ],
   "source": [
    "#4.Can you list out all these items using a loop.\n",
    "for key,value in prov.items():\n",
    "    print('Dict values are--',key,':',value)"
   ]
  },
  {
   "cell_type": "code",
   "execution_count": 42,
   "metadata": {},
   "outputs": [
    {
     "name": "stdout",
     "output_type": "stream",
     "text": [
      "{'apple': 220, 'sugar': 43, 'rice': 45, 'milk': 30, 'egg': 60}\n",
      "{'apple': '250', 'sugar': '500', 'rice': '2', 'milk': '2.5', 'egg': '1', 'atta': '1kg'}\n",
      "--------------------\n"
     ]
    }
   ],
   "source": [
    "#However, the cost of 1 kg apple is Rs.220, 1 kg of sugar is Rs.43, 1 Kg of rice is Rs. 45, 1 litre of milk is Rs.30 and 1 dozen of egg is Rs. 60.\n",
    "#Create another dictionary for pricing.\n",
    "prov_each = {'apple':220,'sugar':43,'rice':45,'milk':30,'egg':60}\n",
    "print(prov_each)\n",
    "print(prov)\n",
    "\n",
    "print('-'*20)"
   ]
  },
  {
   "cell_type": "code",
   "execution_count": 43,
   "metadata": {},
   "outputs": [
    {
     "name": "stdout",
     "output_type": "stream",
     "text": [
      "cost of 250 grams of apple  is-- 250250250250250250250250250250250250250250250250250250250250250250250250250250250250250250250250250250250250250250250250250250250250250250250250250250250250250250250250250250250250250250250250250250250250250250250250250250250250250250250250250250250250250250250250250250250250250250250250250250250250250250250250250250250250250250250250250250250250250250250250250250250250250250250250250250250250250250250250250250250250250250250250250250250250250250250250250250250250250250250250250250250250250250250250250250250250250250250250250250250250250250250250250250250250250250250250250250250250250250250250250250250250250250250250250250250250250250250250250250250250\n",
      "cost of 500 grams of sugar  is-- 500500500500500500500500500500500500500500500500500500500500500500500500500500500500500500500500500500500500500500500500500500500\n",
      "cost of 2 grams of rice  is-- 222222222222222222222222222222222222222222222\n",
      "cost of 2.5 grams of milk  is-- 2.52.52.52.52.52.52.52.52.52.52.52.52.52.52.52.52.52.52.52.52.52.52.52.52.52.52.52.52.52.5\n",
      "cost of 1 grams of egg  is-- 111111111111111111111111111111111111111111111111111111111111\n"
     ]
    }
   ],
   "source": [
    "#5.Thereby, prepare a bill for me of the overall cost of the total commodities purchased by using two dictionaries !\n",
    "import math\n",
    "for k,v in prov.items():\n",
    "   for eachK,eachVal in prov_each.items():\n",
    "       if eachK == k:\n",
    "           print('cost of', v, 'grams of', k, ' is--', eachVal*v)\n",
    "           '''var = eachVal/1000\n",
    "           print(var*v)'''\n",
    "           #try:\n",
    "               #print('cost of',v,'grams of',k,' is--',v*eachVal/1000)\n",
    "           #except:\n",
    "                #print(eachK,'---',k)"
   ]
  }
 ],
 "metadata": {
  "kernelspec": {
   "display_name": "Python 3",
   "language": "python",
   "name": "python3"
  },
  "language_info": {
   "codemirror_mode": {
    "name": "ipython",
    "version": 3
   },
   "file_extension": ".py",
   "mimetype": "text/x-python",
   "name": "python",
   "nbconvert_exporter": "python",
   "pygments_lexer": "ipython3",
   "version": "3.7.3"
  }
 },
 "nbformat": 4,
 "nbformat_minor": 2
}
