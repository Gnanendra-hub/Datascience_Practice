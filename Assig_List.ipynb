{
 "cells": [
  {
   "cell_type": "code",
   "execution_count": 2,
   "metadata": {},
   "outputs": [
    {
     "name": "stdout",
     "output_type": "stream",
     "text": [
      "['Amazon', 'Facebook', 'HiSilicon', 'Google', 'Apple', 'Microsoft', 'SenseTime']\n",
      "['Amazon', 'Apple', 'Facebook', 'Google', 'HiSilicon', 'Microsoft', 'SenseTime']\n"
     ]
    }
   ],
   "source": [
    "#Questions on List\n",
    "#1.Sort the list in ascending order\n",
    "lst = ['Amazon','Facebook','HiSilicon','Google','Apple','Microsoft','SenseTime']\n",
    "print(lst)\n",
    "lst.sort()\n",
    "print(lst)"
   ]
  },
  {
   "cell_type": "code",
   "execution_count": 4,
   "metadata": {},
   "outputs": [
    {
     "name": "stdout",
     "output_type": "stream",
     "text": [
      "['Amazon', 'Apple', 'Facebook', 'Google', 'HiSilicon', 'Microsoft', 'SenseTime', 'Nvidia', 'OpenAI', 'Qualcomm', 'Reliance', 'Nvidia', 'OpenAI', 'Qualcomm', 'Reliance']\n"
     ]
    }
   ],
   "source": [
    "#2.Add multiple companies at once 'Nvidia', 'OpenAI' , 'Qualcomm' and 'Reliance' to the list\n",
    "lst.extend(['Nvidia', 'OpenAI' , 'Qualcomm','Reliance'])\n",
    "print(lst)"
   ]
  },
  {
   "cell_type": "code",
   "execution_count": 6,
   "metadata": {},
   "outputs": [
    {
     "name": "stdout",
     "output_type": "stream",
     "text": [
      "['amazon', 'apple', 'facebook', 'google', 'hisilicon', 'microsoft', 'sensetime', 'nvidia', 'openai', 'qualcomm', 'reliance', 'nvidia', 'openai', 'qualcomm', 'reliance']\n"
     ]
    }
   ],
   "source": [
    "#3.Lower the list using List comprehension\n",
    "\n",
    "list_com = [lwr.lower() for lwr in lst]\n",
    "print(list_com)"
   ]
  },
  {
   "cell_type": "code",
   "execution_count": 8,
   "metadata": {},
   "outputs": [
    {
     "name": "stdout",
     "output_type": "stream",
     "text": [
      "['Amazon', 'Apple', 'Facebook', 'Google', 'HiSilicon', 'Microsoft', 'SenseTime', 'Nvidia', 'OpenAI', 'Qualcomm', 'Reliance', 'Nvidia', 'OpenAI']\n"
     ]
    }
   ],
   "source": [
    "#4.Elimiate 'Reliance' from the list\n",
    "lst.pop()\n",
    "print(lst)"
   ]
  },
  {
   "cell_type": "code",
   "execution_count": 9,
   "metadata": {},
   "outputs": [
    {
     "name": "stdout",
     "output_type": "stream",
     "text": [
      "['Facebook', 'Google'] ['Microsoft']\n",
      "['Facebook', 'Google', 'Microsoft']\n"
     ]
    }
   ],
   "source": [
    "#5.Extract 'Facebook', 'Google' and 'Microsoft' using a single command\n",
    "print(lst[2:4],lst[5:6]) #one way\n",
    "\n",
    "lst_idx = (2,3,5) #second way , initial having the known indexes which has to extract\n",
    "result = [lst[i] for i in lst_idx]\n",
    "print(result)"
   ]
  }
 ],
 "metadata": {
  "kernelspec": {
   "display_name": "Python 3",
   "language": "python",
   "name": "python3"
  },
  "language_info": {
   "codemirror_mode": {
    "name": "ipython",
    "version": 3
   },
   "file_extension": ".py",
   "mimetype": "text/x-python",
   "name": "python",
   "nbconvert_exporter": "python",
   "pygments_lexer": "ipython3",
   "version": "3.7.3"
  }
 },
 "nbformat": 4,
 "nbformat_minor": 2
}
