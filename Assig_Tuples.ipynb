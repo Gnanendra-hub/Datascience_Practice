{
 "cells": [
  {
   "cell_type": "code",
   "execution_count": 2,
   "metadata": {},
   "outputs": [
    {
     "name": "stdout",
     "output_type": "stream",
     "text": [
      "Tuple values are-- (220, 43, 45, 30, 60)\n"
     ]
    }
   ],
   "source": [
    "#Questions on Tuple\n",
    "#(a)Consider the above standard price problem statement and place the prices in the form of the tuple.\n",
    "lst_tuple = (220,43,45,30,60)\n",
    "print('Tuple values are--',lst_tuple)"
   ]
  },
  {
   "cell_type": "code",
   "execution_count": 3,
   "metadata": {},
   "outputs": [
    {
     "name": "stdout",
     "output_type": "stream",
     "text": [
      "220 30\n"
     ]
    }
   ],
   "source": [
    "#(b)Find out the min and max price among them.\n",
    "print(max(lst_tuple),min(lst_tuple))"
   ]
  },
  {
   "cell_type": "code",
   "execution_count": 5,
   "metadata": {},
   "outputs": [
    {
     "name": "stdout",
     "output_type": "stream",
     "text": [
      "list is-- ['Amazon', 'Facebook', 'HiSilicon', 'Google', 'Apple', 'Microsoft', 'SenseTime']\n",
      "After conversion, tuple looks as-- ('Amazon', 'Facebook', 'HiSilicon', 'Google', 'Apple', 'Microsoft', 'SenseTime')\n"
     ]
    }
   ],
   "source": [
    "#(c)Also, convert the above \"AI_companies\" list to a tuple.\n",
    "lst = ['Amazon','Facebook','HiSilicon','Google','Apple','Microsoft','SenseTime']\n",
    "print('list is--',lst)\n",
    "def convert(list_ip):\n",
    "    return tuple(list_ip)\n",
    "\n",
    "print('After conversion, tuple looks as--',convert(lst))\n"
   ]
  },
  {
   "cell_type": "code",
   "execution_count": 7,
   "metadata": {},
   "outputs": [
    {
     "name": "stdout",
     "output_type": "stream",
     "text": [
      "('swift', 'Breeza', 'Alto', 'Omni', 'Wagnor', 'Dzire', '5.8lakhs', '12lakhs', '3 lakhs', '5 lakhs', '7 lakhs', ' 8 lakhs')\n"
     ]
    }
   ],
   "source": [
    "#(d)Combine two above tuples to a single tuple.\n",
    "tuple1 = ('swift','Breeza','Alto','Omni','Wagnor','Dzire')\n",
    "tuple2 = ('5.8lakhs','12lakhs','3 lakhs','5 lakhs','7 lakhs',' 8 lakhs')\n",
    "tuple3 = tuple1+tuple2\n",
    "print(tuple3)"
   ]
  },
  {
   "cell_type": "code",
   "execution_count": 8,
   "metadata": {},
   "outputs": [
    {
     "name": "stdout",
     "output_type": "stream",
     "text": [
      "3 4\n",
      "tuple b is bigger\n"
     ]
    }
   ],
   "source": [
    "#(e)Compare the length of two tuples.\n",
    "a = (90,40,23)\n",
    "b= (3,7,1,4)\n",
    "print(len(a),len(b))\n",
    "if(len(a) > len(b)):\n",
    "    print('tuple a is bigger')\n",
    "else:\n",
    "    print('tuple b is bigger')"
   ]
  }
 ],
 "metadata": {
  "kernelspec": {
   "display_name": "Python 3",
   "language": "python",
   "name": "python3"
  },
  "language_info": {
   "codemirror_mode": {
    "name": "ipython",
    "version": 3
   },
   "file_extension": ".py",
   "mimetype": "text/x-python",
   "name": "python",
   "nbconvert_exporter": "python",
   "pygments_lexer": "ipython3",
   "version": "3.7.3"
  }
 },
 "nbformat": 4,
 "nbformat_minor": 2
}
