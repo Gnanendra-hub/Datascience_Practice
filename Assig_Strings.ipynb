{
 "cells": [
  {
   "cell_type": "code",
   "execution_count": 4,
   "metadata": {},
   "outputs": [
    {
     "name": "stdout",
     "output_type": "stream",
     "text": [
      "['I', 'am', 'very', 'keen', 'in', 'building', 'up', 'my', 'career', 'in', 'Data', 'Science,', 'but', 'not', 'sure', 'from', 'where', 'to', 'start.', 'If', 'I', 'search', 'the', 'web', 'it', 'throws', 'me', 'thousands', 'of', 'articles,', 'few', 'are', 'relevant', 'others', 'make', 'me', 'confused,', 'again', 'I', 'come', 'around', 'to', 'the', 'same', 'page.', 'Supervised', 'has', 'provided', 'me', 'a', 'good', 'platform', 'to', 'remove', 'all', 'such', 'qualms', 'which', 'were', 'wrangling', 'in', 'my', 'mind']\n",
      "Sum of words in the string is-- 1953\n",
      "count of the words are-- 62\n",
      "average of the string is-- 31.5\n"
     ]
    }
   ],
   "source": [
    "# 1. Consider the above text as a string, figure out the average length of the string.\n",
    "\n",
    "str = \" I am very keen in building up my career in Data Science, but not sure from where to start. If I search the web it throws me thousands of articles, few are relevant others make me confused, again I come around to the same page. Supervised has provided me a good platform to remove all such qualms which were wrangling in my mind\"\n",
    "word_split = str.split()  #splitting the 'str' string into words using space delimiter\n",
    "print(word_split)\n",
    "\n",
    "sum = 0\n",
    "for i in range(len(word_split)): #range(len(word_len))\n",
    "    sum += i        #adding all the words to make total sum\n",
    "    word_len = i    #count of the words\n",
    "\n",
    "print('Sum of words in the string is--',sum)\n",
    "print('count of the words are--',word_len)\n",
    "average = sum/word_len\n",
    "print('average of the string is--',average)"
   ]
  },
  {
   "cell_type": "code",
   "execution_count": 6,
   "metadata": {},
   "outputs": [
    {
     "name": "stdout",
     "output_type": "stream",
     "text": [
      " i am very keen in building up my career in data science, but not sure from where to start. if i search the web it throws me thousands of articles, few are relevant others make me confused, again i come around to the same page. supervised has provided me a good platform to remove all such qualms which were wrangling in my mind\n"
     ]
    }
   ],
   "source": [
    "#2.Lower the text in the string.\n",
    "print(str.lower())"
   ]
  },
  {
   "cell_type": "code",
   "execution_count": 9,
   "metadata": {},
   "outputs": [
    {
     "name": "stdout",
     "output_type": "stream",
     "text": [
      "After removal of punctual letters--\n",
      "  I am very keen in building up my career in Data Science but not sure from where to start If I search the web it throws me thousands of articles few are relevant others make me confused again I come around to the same page Supervised has provided me a good platform to remove all such qualms which were wrangling in my mind\n"
     ]
    }
   ],
   "source": [
    "#3.Try to get the clean text removing the punctuation from the string.\n",
    "\n",
    "import re\n",
    "punc = re.sub(r'[^\\w\\s]','',str) # '\\w' - Matches any alphanumeric character, this is equivalent to the class [a-zA-Z0-9_].\n",
    "print('After removal of punctual letters--\\n',punc)"
   ]
  },
  {
   "cell_type": "code",
   "execution_count": 11,
   "metadata": {},
   "outputs": [
    {
     "name": "stdout",
     "output_type": "stream",
     "text": [
      "44\n",
      "Data Science\n"
     ]
    }
   ],
   "source": [
    "#4.Extract word \"Data Science\" from the string.\n",
    "find_idx = str.find('Data Science')\n",
    "print(find_idx)\n",
    "ext_word = str[find_idx:56]\n",
    "print(ext_word)"
   ]
  },
  {
   "cell_type": "code",
   "execution_count": 15,
   "metadata": {},
   "outputs": [
    {
     "name": "stdout",
     "output_type": "stream",
     "text": [
      "Frequency of ' career ' word is-- 1\n",
      "Frequency of ' around ' word is-- 1\n",
      "Frequency of ' building ' word is-- 1\n",
      "Frequency of ' good ' word is-- 1\n",
      "Frequency of ' Data ' word is-- 1\n",
      "Frequency of ' are ' word is-- 1\n",
      "Frequency of ' of ' word is-- 1\n",
      "Frequency of ' throws ' word is-- 1\n",
      "Frequency of ' confused, ' word is-- 1\n",
      "Frequency of ' a ' word is-- 1\n",
      "Frequency of ' make ' word is-- 1\n",
      "Frequency of ' my ' word is-- 2\n",
      "Frequency of ' to ' word is-- 3\n",
      "Frequency of ' has ' word is-- 1\n",
      "Frequency of ' up ' word is-- 1\n",
      "Frequency of ' where ' word is-- 1\n",
      "Frequency of ' platform ' word is-- 1\n",
      "Frequency of ' articles, ' word is-- 1\n",
      "Frequency of ' such ' word is-- 1\n",
      "Frequency of ' wrangling ' word is-- 1\n",
      "Frequency of ' come ' word is-- 1\n",
      "Frequency of ' keen ' word is-- 1\n",
      "Frequency of ' start. ' word is-- 1\n",
      "Frequency of ' web ' word is-- 1\n",
      "Frequency of ' am ' word is-- 1\n",
      "Frequency of ' relevant ' word is-- 1\n",
      "Frequency of ' Supervised ' word is-- 1\n",
      "Frequency of ' Science, ' word is-- 1\n",
      "Frequency of ' qualms ' word is-- 1\n",
      "Frequency of ' all ' word is-- 1\n",
      "Frequency of ' which ' word is-- 1\n",
      "Frequency of ' remove ' word is-- 1\n",
      "Frequency of ' in ' word is-- 3\n",
      "Frequency of ' but ' word is-- 1\n",
      "Frequency of ' same ' word is-- 1\n",
      "Frequency of ' search ' word is-- 1\n",
      "Frequency of ' me ' word is-- 3\n",
      "Frequency of ' If ' word is-- 1\n",
      "Frequency of ' page. ' word is-- 1\n",
      "Frequency of ' mind ' word is-- 1\n",
      "Frequency of ' not ' word is-- 1\n",
      "Frequency of ' again ' word is-- 1\n",
      "Frequency of ' sure ' word is-- 1\n",
      "Frequency of ' it ' word is-- 1\n",
      "Frequency of ' I ' word is-- 3\n",
      "Frequency of ' very ' word is-- 1\n",
      "Frequency of ' thousands ' word is-- 1\n",
      "Frequency of ' were ' word is-- 1\n",
      "Frequency of ' from ' word is-- 1\n",
      "Frequency of ' others ' word is-- 1\n",
      "Frequency of ' provided ' word is-- 1\n",
      "Frequency of ' the ' word is-- 2\n",
      "Frequency of ' few ' word is-- 1\n"
     ]
    }
   ],
   "source": [
    "#5.Find the frequency of words used in the string.\n",
    "split_word = str.split()\n",
    "#print('count of word \\'in\\' is--',split_word.count('in'))\n",
    "uniq_word = set(split_word)\n",
    "#print(uniq_word)\n",
    "for freq in uniq_word:\n",
    "    print('Frequency of \\'',freq,'\\' word is--',split_word.count(freq))"
   ]
  },
  {
   "cell_type": "code",
   "execution_count": 23,
   "metadata": {},
   "outputs": [
    {
     "name": "stdout",
     "output_type": "stream",
     "text": [
      "Counter({'I': 3, 'in': 3, 'to': 3, 'me': 3, 'my': 2, 'the': 2, 'am': 1, 'very': 1, 'keen': 1, 'building': 1, 'up': 1, 'career': 1, 'Data': 1, 'Science,': 1, 'but': 1, 'not': 1, 'sure': 1, 'from': 1, 'where': 1, 'start.': 1, 'If': 1, 'search': 1, 'web': 1, 'it': 1, 'throws': 1, 'thousands': 1, 'of': 1, 'articles,': 1, 'few': 1, 'are': 1, 'relevant': 1, 'others': 1, 'make': 1, 'confused,': 1, 'again': 1, 'come': 1, 'around': 1, 'same': 1, 'page.': 1, 'Supervised': 1, 'has': 1, 'provided': 1, 'a': 1, 'good': 1, 'platform': 1, 'remove': 1, 'all': 1, 'such': 1, 'qualms': 1, 'which': 1, 'were': 1, 'wrangling': 1, 'mind': 1})\n",
      "duplicate word is-- I  and repeated  3  times\n",
      "duplicate word is-- in  and repeated  3  times\n",
      "duplicate word is-- my  and repeated  2  times\n",
      "duplicate word is-- in  and repeated  3  times\n",
      "duplicate word is-- to  and repeated  3  times\n",
      "duplicate word is-- I  and repeated  3  times\n",
      "duplicate word is-- the  and repeated  2  times\n",
      "duplicate word is-- me  and repeated  3  times\n",
      "duplicate word is-- me  and repeated  3  times\n",
      "duplicate word is-- I  and repeated  3  times\n",
      "duplicate word is-- to  and repeated  3  times\n",
      "duplicate word is-- the  and repeated  2  times\n",
      "duplicate word is-- me  and repeated  3  times\n",
      "duplicate word is-- to  and repeated  3  times\n",
      "duplicate word is-- in  and repeated  3  times\n",
      "duplicate word is-- my  and repeated  2  times\n"
     ]
    },
    {
     "data": {
      "text/plain": [
       "'#def findDuplicate(str):\\n#findDuplicate(str)\\ndef do_find_duplicates(x):\\n    x =input(\"Enter a word = \")\\n    for key,val in Counter(x).items():\\n        print(key,val)'"
      ]
     },
     "execution_count": 23,
     "metadata": {},
     "output_type": "execute_result"
    }
   ],
   "source": [
    "#6.Fetch the duplicate pairs used in the string.\n",
    "\n",
    "from collections import Counter\n",
    "\n",
    "words = str.split()\n",
    "dict = Counter(words)\n",
    "print(dict)\n",
    "\n",
    "for key in words:\n",
    "    if dict[key] >1:\n",
    "        print('duplicate word is--',key,' and repeated ',dict[key],' times')\n",
    "\n",
    "'''#def findDuplicate(str):\n",
    "#findDuplicate(str)\n",
    "def do_find_duplicates(x):\n",
    "    x =input(\"Enter a word = \")\n",
    "    for key,val in Counter(x).items():\n",
    "        print(key,val)'''\n",
    "        "
   ]
  },
  {
   "cell_type": "code",
   "execution_count": 26,
   "metadata": {},
   "outputs": [
    {
     "name": "stdout",
     "output_type": "stream",
     "text": [
      " I am very keen in building up my career in Data Science, but not sure from where to start. If I search the web it throws me thousands of articles, few are relevant others make me confused, again I come around to the same page. Unsupervised has provided me a good platform to remove all such qualms which were wrangling in my mind\n"
     ]
    }
   ],
   "source": [
    "#7.Can you change the word \"Supervised\" to \"Unsupervised\" in the string\n",
    "print(str.replace('Supervised','Unsupervised'))"
   ]
  },
  {
   "cell_type": "code",
   "execution_count": 28,
   "metadata": {},
   "outputs": [
    {
     "name": "stdout",
     "output_type": "stream",
     "text": [
      "[' I am very keen in building up my career in Data Science, but not sure from where to start', ' If I search the web it throws me thousands of articles, few are relevant others make me confused, again I come around to the same page', ' Supervised has provided me a good platform to remove all such qualms which were wrangling in my mind']\n"
     ]
    }
   ],
   "source": [
    "#8.Splitting of the string with a dot operator(.)\n",
    "print(str.split('.'))"
   ]
  },
  {
   "cell_type": "code",
   "execution_count": 30,
   "metadata": {},
   "outputs": [
    {
     "name": "stdout",
     "output_type": "stream",
     "text": [
      "words are-- sure\n",
      "words are-- where\n",
      "words are-- the\n",
      "words are-- me\n",
      "words are-- are\n",
      "words are-- make\n",
      "words are-- me\n",
      "words are-- come\n",
      "words are-- the\n",
      "words are-- same\n",
      "words are-- me\n",
      "words are-- remove\n",
      "words are-- were\n"
     ]
    }
   ],
   "source": [
    "#9.Find the words from the string which ends with \"e\"\n",
    "#ends = re.findall('[$e]\\w+',str)\n",
    "#print(ends)\n",
    "\n",
    "for i in str.split():\n",
    "    if i.endswith('e'):\n",
    "        print('words are--',i)"
   ]
  },
  {
   "cell_type": "code",
   "execution_count": 31,
   "metadata": {},
   "outputs": [
    {
     "name": "stdout",
     "output_type": "stream",
     "text": [
      "count of a's is-- 22\n"
     ]
    }
   ],
   "source": [
    "#10.Figure out number of a's used in the string.\n",
    "count = 0\n",
    "for charc in str:\n",
    "    if charc == 'a':\n",
    "        count = count+1\n",
    "print('count of a\\'s is--',count)"
   ]
  }
 ],
 "metadata": {
  "kernelspec": {
   "display_name": "Python 3",
   "language": "python",
   "name": "python3"
  },
  "language_info": {
   "codemirror_mode": {
    "name": "ipython",
    "version": 3
   },
   "file_extension": ".py",
   "mimetype": "text/x-python",
   "name": "python",
   "nbconvert_exporter": "python",
   "pygments_lexer": "ipython3",
   "version": "3.7.3"
  }
 },
 "nbformat": 4,
 "nbformat_minor": 2
}
